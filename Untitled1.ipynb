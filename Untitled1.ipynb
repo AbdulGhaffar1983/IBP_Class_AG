{
  "nbformat": 4,
  "nbformat_minor": 0,
  "metadata": {
    "colab": {
      "provenance": []
    },
    "kernelspec": {
      "name": "python3",
      "display_name": "Python 3"
    },
    "language_info": {
      "name": "python"
    }
  },
  "cells": [
    {
      "cell_type": "code",
      "execution_count": 1,
      "metadata": {
        "colab": {
          "base_uri": "https://localhost:8080/"
        },
        "id": "CmCllACUp73R",
        "outputId": "fbeaf47a-cdf4-404b-87e7-79155e8230fd"
      },
      "outputs": [
        {
          "output_type": "stream",
          "name": "stdout",
          "text": [
            "ABDUL GHAFFAR\n"
          ]
        }
      ],
      "source": [
        "print (\"Abdul Ghaffar\")"
      ]
    },
    {
      "cell_type": "code",
      "source": [
        "#varibale\n",
        "\n",
        "x=9\n",
        "print(x)"
      ],
      "metadata": {
        "colab": {
          "base_uri": "https://localhost:8080/"
        },
        "id": "7p4tVWqnrhna",
        "outputId": "19589657-642f-48ec-b90d-5f6e67e902c6"
      },
      "execution_count": 7,
      "outputs": [
        {
          "output_type": "stream",
          "name": "stdout",
          "text": [
            "9\n"
          ]
        }
      ]
    },
    {
      "cell_type": "code",
      "source": [
        "# Opening a dictionary\n",
        "dict1 = {\"Name\": \"Abdul Ghaffar\", \"CNIC\":\"12345\", \"Bank\": \"State Bank of Pakistan\"}\n",
        "print(dict1)"
      ],
      "metadata": {
        "colab": {
          "base_uri": "https://localhost:8080/"
        },
        "id": "q4bApSZMsd1j",
        "outputId": "381c3972-4c59-4a9c-9a4d-34da4bcf01bc"
      },
      "execution_count": 8,
      "outputs": [
        {
          "output_type": "stream",
          "name": "stdout",
          "text": [
            "{'Name': 'Abdul Ghaffar', 'CNIC': '12345', 'Bank': 'State Bank of Pakistan'}\n"
          ]
        }
      ]
    },
    {
      "cell_type": "code",
      "source": [
        "dict2 = {\"Company Name\": \"Bank Alfalah\", \"Employee ID\":\"12345\", \"Department\": \"Administration\"}\n",
        "dict2\n"
      ],
      "metadata": {
        "colab": {
          "base_uri": "https://localhost:8080/"
        },
        "id": "xDnecFD1wUTf",
        "outputId": "88630686-798b-48ee-c1de-b34e9c65f4d5"
      },
      "execution_count": 14,
      "outputs": [
        {
          "output_type": "execute_result",
          "data": {
            "text/plain": [
              "{'Company Name': 'Bank Alfalah',\n",
              " 'Employee ID': '12345',\n",
              " 'Department': 'Administration'}"
            ]
          },
          "metadata": {},
          "execution_count": 14
        }
      ]
    },
    {
      "cell_type": "code",
      "source": [
        "dict3 = {\"Employee ID\": \"ABC1\", \"Department\":\"12345\", \"Degree\": \"MBA\"}\n",
        "dict3"
      ],
      "metadata": {
        "colab": {
          "base_uri": "https://localhost:8080/"
        },
        "id": "JaRZPDVNwsPr",
        "outputId": "14e11c12-e8ed-448d-82b4-91e22c596f22"
      },
      "execution_count": 15,
      "outputs": [
        {
          "output_type": "execute_result",
          "data": {
            "text/plain": [
              "{'Employee ID': 'ABC1', 'Department': '12345', 'Degree': 'MBA'}"
            ]
          },
          "metadata": {},
          "execution_count": 15
        }
      ]
    },
    {
      "cell_type": "code",
      "source": [
        "dict4 = {\"Account No\": \"1234\", \"Bank\":\"Alfalah\", \"Customer Category\": \"Corporate\"}\n",
        "dict4"
      ],
      "metadata": {
        "colab": {
          "base_uri": "https://localhost:8080/"
        },
        "id": "RKjr5iHPxF27",
        "outputId": "dad60f39-a48d-4096-a0d8-a093ba37fbbf"
      },
      "execution_count": 16,
      "outputs": [
        {
          "output_type": "execute_result",
          "data": {
            "text/plain": [
              "{'Account No': '1234', 'Bank': 'Alfalah', 'Customer Category': 'Corporate'}"
            ]
          },
          "metadata": {},
          "execution_count": 16
        }
      ]
    },
    {
      "cell_type": "code",
      "source": [
        "print(dict1,\n",
        "      dict2,\n",
        "      dict3,\n",
        "      dict4)"
      ],
      "metadata": {
        "colab": {
          "base_uri": "https://localhost:8080/"
        },
        "id": "xUS2YaeNxVuI",
        "outputId": "9a6f8160-2b9a-4be5-abed-bba9e1dd97a8"
      },
      "execution_count": 26,
      "outputs": [
        {
          "output_type": "stream",
          "name": "stdout",
          "text": [
            "{'Name': 'Abdul Ghaffar', 'CNIC': '12345', 'Bank': 'State Bank of Pakistan'} {'Company Name': 'Bank Alfalah', 'Employee ID': '12345', 'Department': 'Administration'} {'Employee ID': 'ABC1', 'Department': '12345', 'Degree': 'MBA'} {'Account No': '1234', 'Bank': 'Alfalah', 'Customer Category': 'Corporate'}\n"
          ]
        }
      ]
    },
    {
      "cell_type": "code",
      "source": [
        "x= \"hello world\"\n",
        "print('ro' in x)"
      ],
      "metadata": {
        "colab": {
          "base_uri": "https://localhost:8080/"
        },
        "id": "nZwCoBFs2ySO",
        "outputId": "b9022b30-e79b-467e-9e5f-98f30c64bdd6"
      },
      "execution_count": 31,
      "outputs": [
        {
          "output_type": "stream",
          "name": "stdout",
          "text": [
            "False\n"
          ]
        }
      ]
    },
    {
      "cell_type": "code",
      "source": [
        "int (0b101)"
      ],
      "metadata": {
        "colab": {
          "base_uri": "https://localhost:8080/"
        },
        "id": "VeO_9zFf3-Xq",
        "outputId": "edf068f4-6eb2-4507-ed70-4b3e9ac189b6"
      },
      "execution_count": 38,
      "outputs": [
        {
          "output_type": "execute_result",
          "data": {
            "text/plain": [
              "5"
            ]
          },
          "metadata": {},
          "execution_count": 38
        }
      ]
    },
    {
      "cell_type": "code",
      "source": [
        "# Wrtie a program to subtract age from 10 if its less than 100\n",
        "\n",
        "age =int(input(\"Enter Age:  \"))\n",
        "if age < 100:\n",
        "   print(age-10)\n",
        "else:\n",
        "   print(age)"
      ],
      "metadata": {
        "colab": {
          "base_uri": "https://localhost:8080/"
        },
        "id": "vZups_hJCL9x",
        "outputId": "d637bf17-c378-4a38-8416-adb194619fa8"
      },
      "execution_count": 48,
      "outputs": [
        {
          "output_type": "stream",
          "name": "stdout",
          "text": [
            "Enter Age:  20\n",
            "10\n"
          ]
        }
      ]
    },
    {
      "cell_type": "code",
      "source": [
        "# Write a program to calculate profit from 20% of the cost\n",
        "cost =int(input(\"Enter Cost:  \"))\n",
        "Profit =int (cost*(20/100))\n",
        "print(\"your profit is: \", Profit)\n"
      ],
      "metadata": {
        "colab": {
          "base_uri": "https://localhost:8080/"
        },
        "id": "St7oIArWCrpt",
        "outputId": "d3a71ba1-7cfc-4866-96e0-6b56707e1e21"
      },
      "execution_count": 55,
      "outputs": [
        {
          "output_type": "stream",
          "name": "stdout",
          "text": [
            "Enter Cost:  20\n",
            "your profit is:  4\n"
          ]
        }
      ]
    },
    {
      "cell_type": "code",
      "source": [
        "# prompt: create a while loop that breaks at 4\n",
        "\n",
        "i = 0\n",
        "while i < 25:\n",
        "    if i == 25:\n",
        "    break\n",
        "  print(i)\n",
        "  i += 5\n"
      ],
      "metadata": {
        "colab": {
          "base_uri": "https://localhost:8080/"
        },
        "id": "SqFzP8tnIAmx",
        "outputId": "9aefbb13-9f77-4492-a1d9-ab3d451313df"
      },
      "execution_count": 65,
      "outputs": [
        {
          "output_type": "stream",
          "name": "stdout",
          "text": [
            "0\n",
            "5\n",
            "10\n",
            "15\n",
            "20\n"
          ]
        }
      ]
    },
    {
      "cell_type": "code",
      "source": [
        "def tax_cal(tx, tr, x):\n",
        "  if tx == tr*x:\n",
        "    print(\"You are an honest tax payer\")\n",
        "  else:\n",
        "    print(\"You are dishonest\")"
      ],
      "metadata": {
        "id": "80WNDMgLLj1P"
      },
      "execution_count": 69,
      "outputs": []
    },
    {
      "cell_type": "code",
      "source": [
        "tax_cal(12,0.1,120)"
      ],
      "metadata": {
        "colab": {
          "base_uri": "https://localhost:8080/"
        },
        "id": "0BqC8N60MEjq",
        "outputId": "645cd080-b350-49af-dbb3-21a14f8b5792"
      },
      "execution_count": 70,
      "outputs": [
        {
          "output_type": "stream",
          "name": "stdout",
          "text": [
            "You are an honest tax payer\n"
          ]
        }
      ]
    },
    {
      "cell_type": "code",
      "source": [
        "def g_t(x):\n",
        "  if x == 'Male':\n",
        "    return 0\n",
        "  elif x == \"Female\":\n",
        "    return 1\n",
        "  elif x == \"Transgender\":\n",
        "    return 2\n",
        "  else:\n",
        "    print ('who are you?')"
      ],
      "metadata": {
        "id": "GzxPVsPsMKbr"
      },
      "execution_count": 77,
      "outputs": []
    },
    {
      "cell_type": "code",
      "source": [
        "g_t('Male')"
      ],
      "metadata": {
        "colab": {
          "base_uri": "https://localhost:8080/"
        },
        "id": "YTDY91PlM9zJ",
        "outputId": "60b76375-7141-4aeb-84ea-706a34cf3903"
      },
      "execution_count": 78,
      "outputs": [
        {
          "output_type": "execute_result",
          "data": {
            "text/plain": [
              "0"
            ]
          },
          "metadata": {},
          "execution_count": 78
        }
      ]
    },
    {
      "cell_type": "code",
      "source": [
        "g_t('Female')\n"
      ],
      "metadata": {
        "colab": {
          "base_uri": "https://localhost:8080/"
        },
        "id": "E8YVJJupNb6y",
        "outputId": "492a3156-e543-4e94-9b3c-23f76e808e30"
      },
      "execution_count": 79,
      "outputs": [
        {
          "output_type": "execute_result",
          "data": {
            "text/plain": [
              "1"
            ]
          },
          "metadata": {},
          "execution_count": 79
        }
      ]
    },
    {
      "cell_type": "code",
      "source": [
        "g_t('Transgender')"
      ],
      "metadata": {
        "colab": {
          "base_uri": "https://localhost:8080/"
        },
        "id": "sqt7uyUINfe0",
        "outputId": "e7224084-7df8-4e70-ea56-0d356171168e"
      },
      "execution_count": 81,
      "outputs": [
        {
          "output_type": "execute_result",
          "data": {
            "text/plain": [
              "2"
            ]
          },
          "metadata": {},
          "execution_count": 81
        }
      ]
    }
  ]
}